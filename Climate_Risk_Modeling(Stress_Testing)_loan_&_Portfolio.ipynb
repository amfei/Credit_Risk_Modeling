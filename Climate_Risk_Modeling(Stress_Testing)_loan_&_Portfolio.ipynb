{
  "nbformat": 4,
  "nbformat_minor": 0,
  "metadata": {
    "colab": {
      "private_outputs": true,
      "provenance": []
    },
    "kernelspec": {
      "name": "python3",
      "display_name": "Python 3"
    },
    "language_info": {
      "name": "python"
    }
  },
  "cells": [
    {
      "cell_type": "markdown",
      "source": [
        "\n",
        "\n",
        "####Climate Risk Modeling involves predicting how climate change or extreme weather events (like floods or hurricanes) could impact financial assets. For example, if a flood damages properties, loans given to those property owners might be at higher risk of default.\n",
        "\n",
        "\n",
        "Credit Risk is the risk that a borrower will not repay their loan. Financial institutions need to estimate this risk to manage their portfolios effectively.\n",
        "Simple Example\n",
        "Imagine you work at a bank, and you want to see how a major storm might affect your loans. You have a bunch of loans, and each loan has a chance of defaulting (not being paid back) which you measure as the Probability of Default (PD).\n",
        "\n",
        "####Steps to Model the Impact of Climate Risk:\n",
        "\n",
        "Generate Loan Data:\n",
        "* Create a list of loans with their amounts and the initial chance of default.\n",
        "\n",
        "\n",
        "Define a Stress Scenario:\n",
        "\n",
        "* Assume that a major storm increases the chance of default for these loans. For instance, we might say that the probability of default increases by 25%.\n",
        "\n",
        "Adjust PD for Stress Scenario:\n",
        "\n",
        "* Apply this increase to the initial chance of default to get a new, higher chance of default.\n",
        "\n",
        "Simulate Defaults:\n",
        "\n",
        "* Use the new chance of default to predict which loans will actually default.\n",
        "\n",
        "Calculate Expected Loss:\n",
        "\n",
        "* Estimate how much money we might lose if these defaults occur, considering that we can recover some money from the defaulted loans.\n"
      ],
      "metadata": {
        "id": "m4qfpzJfOwQD"
      }
    },
    {
      "cell_type": "code",
      "source": [
        "import numpy as np\n",
        "import pandas as pd\n",
        "\n",
        "# Step 1: Generate Synthetic Loan Data\n",
        "np.random.seed(42)  # For reproducibility\n",
        "loan_data = pd.DataFrame({\n",
        "    'loan_id': range(1, 101),  # Loan IDs from 1 to 100\n",
        "    'loan_amount': np.random.uniform(10000, 100000, 100),  # Random loan amounts between $10,000 and $100,000\n",
        "    'initial_pd': np.random.uniform(0.01, 0.10, 100)  # Initial chance of default between 1% and 10%\n",
        "})\n",
        "loan_data.head()\n",
        "\n"
      ],
      "metadata": {
        "id": "0uc2RhHpOsbJ"
      },
      "execution_count": null,
      "outputs": []
    },
    {
      "cell_type": "code",
      "source": [
        "# Step 2: Define Climate Stress Scenario\n",
        "# Increase the PD by 25% due to extreme weather\n",
        "def apply_climate_stress_scenario(pd_values, increase_factor=0.25):\n",
        "    return np.minimum(pd_values * (1 + increase_factor), 1.0)  # Ensure PD does not exceed 100%\n",
        "\n",
        "# Apply the stress scenario\n",
        "loan_data['stressed_pd'] = apply_climate_stress_scenario(loan_data['initial_pd'])\n",
        "\n",
        "loan_data.head()"
      ],
      "metadata": {
        "id": "kzkNUW4qOsdf"
      },
      "execution_count": null,
      "outputs": []
    },
    {
      "cell_type": "code",
      "source": [
        "# Step 3: Simulate Defaults\n",
        "# Use the stressed PD to simulate which loans default\n",
        "def simulate_defaults(pd_values):\n",
        "    return np.random.binomial(1, pd_values)  # 1 for default, 0 for no default\n",
        "\n",
        "loan_data['default_event'] = simulate_defaults(loan_data['stressed_pd'])\n",
        "loan_data"
      ],
      "metadata": {
        "id": "aDBRak5VOsff"
      },
      "execution_count": null,
      "outputs": []
    },
    {
      "cell_type": "code",
      "source": [
        "# Step 4: Calculate Expected Loss\n",
        "# Assume we can recover 40% of the loan amount, so LGD (Loss Given Default) is 60%\n",
        "recovery_rate = 0.40\n",
        "loan_data['lgd'] = 1 - recovery_rate\n",
        "\n",
        "# Calculate expected loss for each loan\n",
        "loan_data['expected_loss'] = round( loan_data['loan_amount'] * loan_data['initial_pd'] * loan_data['lgd'])\n",
        "loan_data['expected_loss_sttressed'] = round( loan_data['loan_amount'] * loan_data['stressed_pd'] * loan_data['lgd'])\n",
        "loan_data.head()"
      ],
      "metadata": {
        "id": "0--U0fVfX5oI"
      },
      "execution_count": null,
      "outputs": []
    },
    {
      "cell_type": "code",
      "source": [
        "\n",
        "\n",
        "# Summarize results\n",
        "total_expected_loss = loan_data['expected_loss'].sum()\n",
        "total_expected_loss_stressed = loan_data['expected_loss_sttressed'].sum()\n",
        "total_default_loans = loan_data['default_event'].sum()\n",
        "\n",
        "print(f\"Total Expected Loss under Climate Stress Scenario: ${total_expected_loss:.2f}\")\n",
        "print(f\"Total Expected Loss Stressed under Climate Stress Scenario: ${total_expected_loss_stressed:.2f}\")\n",
        "print(f\"Total Number of Default Loans: {total_default_loans}\")\n",
        "\n",
        "# Display sample data\n",
        "print(\"\\nSample Loan Data with Stressed PD and Expected Loss:\")\n",
        "loan_data[loan_data['default_event']==1]"
      ],
      "metadata": {
        "id": "3Y4e-ZFuOsh3"
      },
      "execution_count": null,
      "outputs": []
    },
    {
      "cell_type": "code",
      "source": [],
      "metadata": {
        "id": "SFMPDab_Osjj"
      },
      "execution_count": null,
      "outputs": []
    },
    {
      "cell_type": "code",
      "source": [],
      "metadata": {
        "id": "Pm8DdCeIKK9I"
      },
      "execution_count": null,
      "outputs": []
    },
    {
      "cell_type": "markdown",
      "source": [
        "##Stress Testing a Portfolio of Mortgage-Backed Securities\n",
        "\n",
        "Here’s an example of how you might develop a stress test scenario for a portfolio of MBS during an economic downturn. Suppose we have a portfolio of mortgage-backed securities (MBS). During an economic downturn, factors such as increasing unemployment rates and falling housing prices can impact the performance of these securities. By developing a stress test scenario that simulates such adverse conditions, we can identify the vulnerabilities within the portfolio and adjust our risk strategies accordingly.\n",
        "\n"
      ],
      "metadata": {
        "id": "_GWv-_WgJLt9"
      }
    },
    {
      "cell_type": "code",
      "source": [
        "import numpy as np\n",
        "import pandas as pd\n",
        "\n",
        "# Sample data: Portfolio of mortgage-backed securities\n",
        "data = {\n",
        "    'MBS_ID': ['MBS1', 'MBS2', 'MBS3', 'MBS4', 'MBS5'],\n",
        "    'Market_Value': [1000000, 2000000, 1500000, 1200000, 1800000],\n",
        "    'Credit_Rating': ['AAA', 'AA', 'A', 'BBB', 'BB'],\n",
        "    'Default_Probability': [0.01, 0.02, 0.03, 0.05, 0.1]  # Base probabilities\n",
        "}\n",
        "\n",
        "portfolio = pd.DataFrame(data)\n",
        "\n",
        "# Economic downturn scenario: Increase default probabilities\n",
        "scenario_factor = 3  # Assuming default probabilities triple during the downturn\n",
        "portfolio['Stress_Default_Probability'] = portfolio['Default_Probability'] * scenario_factor\n",
        "\n",
        "# Estimate potential losses\n",
        "loss_given_default = 0.4  # Assuming 40% loss given default\n",
        "portfolio['Expected_Loss'] = portfolio['Market_Value'] * portfolio['Stress_Default_Probability'] * loss_given_default\n",
        "\n",
        "# Calculate total expected loss for the portfolio\n",
        "total_expected_loss = portfolio['Expected_Loss'].sum()\n",
        "\n",
        "# Output the results\n",
        "print(\"Portfolio under Stress Scenario:\")\n",
        "portfolio\n"
      ],
      "metadata": {
        "id": "5fidYj5mOslr"
      },
      "execution_count": null,
      "outputs": []
    },
    {
      "cell_type": "code",
      "source": [
        "print(f\"\\nTotal Expected Loss under Stress Scenario: ${total_expected_loss:,.2f}\")\n",
        "\n",
        "# Adjust risk strategies based on the stress test results\n",
        "# For example, rebalancing the portfolio to reduce exposure to higher-risk securities\n",
        "high_risk_securities = portfolio[portfolio['Stress_Default_Probability'] > 0.1]\n",
        "\n",
        "print(\"\\nHigh-Risk Securities under Stress Scenario:\")\n",
        "high_risk_securities\n"
      ],
      "metadata": {
        "id": "w14NLJ-lQput"
      },
      "execution_count": null,
      "outputs": []
    },
    {
      "cell_type": "code",
      "source": [],
      "metadata": {
        "id": "RdKsMpwHOsn6"
      },
      "execution_count": null,
      "outputs": []
    }
  ]
}